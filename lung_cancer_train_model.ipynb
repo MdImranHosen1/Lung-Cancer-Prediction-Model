{
 "cells": [
  {
   "cell_type": "code",
   "execution_count": 16,
   "id": "8d639f65",
   "metadata": {},
   "outputs": [],
   "source": [
    "import pandas as pd\n",
    "import numpy as np\n",
    "import matplotlib.pyplot as plt\n",
    "import seaborn as sns\n",
    "from sklearn.model_selection import train_test_split, cross_val_score\n",
    "from sklearn.preprocessing import LabelEncoder, StandardScaler\n",
    "from sklearn.linear_model import LogisticRegression\n",
    "from sklearn.metrics import accuracy_score, confusion_matrix, classification_report, roc_auc_score\n",
    "import joblib\n",
    "import os"
   ]
  },
  {
   "cell_type": "code",
   "execution_count": 17,
   "id": "99976d25",
   "metadata": {},
   "outputs": [],
   "source": [
    "# Multiple Models\n",
    "from sklearn.linear_model import LogisticRegression\n",
    "from sklearn.ensemble import RandomForestClassifier, GradientBoostingClassifier\n",
    "from sklearn.svm import SVC\n",
    "from sklearn.neural_network import MLPClassifier\n",
    "from sklearn.tree import DecisionTreeClassifier\n",
    "from sklearn.neighbors import KNeighborsClassifier"
   ]
  },
  {
   "cell_type": "code",
   "execution_count": 18,
   "id": "a0dcf2e0",
   "metadata": {},
   "outputs": [],
   "source": [
    "# Create directory for models if it doesn't exist\n",
    "os.makedirs(\"train_models\", exist_ok=True)\n"
   ]
  },
  {
   "cell_type": "code",
   "execution_count": 19,
   "id": "42cfd5a1",
   "metadata": {},
   "outputs": [
    {
     "name": "stdout",
     "output_type": "stream",
     "text": [
      "Original data shape: (309, 16)\n",
      "\n",
      "First few rows:\n",
      "  GENDER  AGE  SMOKING  YELLOW_FINGERS  ANXIETY  PEER_PRESSURE  \\\n",
      "0      M   69        1               2        2              1   \n",
      "1      M   74        2               1        1              1   \n",
      "2      F   59        1               1        1              2   \n",
      "3      M   63        2               2        2              1   \n",
      "4      F   63        1               2        1              1   \n",
      "\n",
      "   CHRONIC DISEASE  FATIGUE   ALLERGY   WHEEZING  ALCOHOL CONSUMING  COUGHING  \\\n",
      "0                1         2         1         2                  2         2   \n",
      "1                2         2         2         1                  1         1   \n",
      "2                1         2         1         2                  1         2   \n",
      "3                1         1         1         1                  2         1   \n",
      "4                1         1         1         2                  1         2   \n",
      "\n",
      "   SHORTNESS OF BREATH  SWALLOWING DIFFICULTY  CHEST PAIN LUNG_CANCER  \n",
      "0                    2                      2           2         YES  \n",
      "1                    2                      2           2         YES  \n",
      "2                    2                      1           2          NO  \n",
      "3                    1                      2           2          NO  \n",
      "4                    2                      1           1          NO  \n"
     ]
    }
   ],
   "source": [
    "# Loading the dataset\n",
    "df = pd.read_csv(\"dataset/survey_lung_cancer.csv\")\n",
    "print(\"Original data shape:\", df.shape)\n",
    "print(\"\\nFirst few rows:\")\n",
    "print(df.head())"
   ]
  },
  {
   "cell_type": "code",
   "execution_count": 20,
   "id": "d3f23167",
   "metadata": {},
   "outputs": [
    {
     "name": "stdout",
     "output_type": "stream",
     "text": [
      "\n",
      "============================================================\n",
      "ENCODING DATA\n",
      "============================================================\n"
     ]
    }
   ],
   "source": [
    "# Data cleaning and standardization on the column names\n",
    "df.columns = [c.strip().lower().replace(\" \", \"_\") for c in df.columns]\n",
    "df.rename(columns={\"lung_cancer\": \"target\"}, inplace=True)\n",
    "\n",
    "print(\"\\n\" + \"=\"*60)\n",
    "print(\"ENCODING DATA\")\n",
    "print(\"=\"*60)"
   ]
  },
  {
   "cell_type": "code",
   "execution_count": 21,
   "id": "81f72ce1",
   "metadata": {},
   "outputs": [],
   "source": [
    "categorical_columns = ['gender', 'smoking', 'yellow_fingers', 'anxiety', \n",
    "                       'peer_pressure', 'chronic_disease', 'fatigue', \n",
    "                       'allergy', 'wheezing', 'alcohol_consuming', \n",
    "                       'coughing', 'shortness_of_breath', \n",
    "                       'swallowing_difficulty', 'chest_pain', 'target']"
   ]
  },
  {
   "cell_type": "code",
   "execution_count": 22,
   "id": "2310af39",
   "metadata": {},
   "outputs": [],
   "source": [
    "# ✅ SOLUTION: Save each encoder separately\n",
    "encoders = {}\n",
    "for col in df.columns:\n",
    "    if col in categorical_columns:\n",
    "        le = LabelEncoder()\n",
    "        df[col] = le.fit_transform(df[col])\n",
    "        encoders[col] = le\n",
    "    # Age stays as numeric - no encoding needed\n"
   ]
  },
  {
   "cell_type": "code",
   "execution_count": 23,
   "id": "16c0b4e1",
   "metadata": {},
   "outputs": [
    {
     "name": "stdout",
     "output_type": "stream",
     "text": [
      "\n",
      "📋 Encoding Mappings:\n",
      "gender: {'F': np.int64(0), 'M': np.int64(1)}\n",
      "smoking: {np.int64(1): np.int64(0), np.int64(2): np.int64(1)}\n",
      "yellow_fingers: {np.int64(1): np.int64(0), np.int64(2): np.int64(1)}\n",
      "anxiety: {np.int64(1): np.int64(0), np.int64(2): np.int64(1)}\n",
      "peer_pressure: {np.int64(1): np.int64(0), np.int64(2): np.int64(1)}\n",
      "chronic_disease: {np.int64(1): np.int64(0), np.int64(2): np.int64(1)}\n",
      "fatigue: {np.int64(1): np.int64(0), np.int64(2): np.int64(1)}\n",
      "allergy: {np.int64(1): np.int64(0), np.int64(2): np.int64(1)}\n",
      "wheezing: {np.int64(1): np.int64(0), np.int64(2): np.int64(1)}\n",
      "alcohol_consuming: {np.int64(1): np.int64(0), np.int64(2): np.int64(1)}\n",
      "coughing: {np.int64(1): np.int64(0), np.int64(2): np.int64(1)}\n",
      "shortness_of_breath: {np.int64(1): np.int64(0), np.int64(2): np.int64(1)}\n",
      "swallowing_difficulty: {np.int64(1): np.int64(0), np.int64(2): np.int64(1)}\n",
      "chest_pain: {np.int64(1): np.int64(0), np.int64(2): np.int64(1)}\n",
      "target: {'NO': np.int64(0), 'YES': np.int64(1)}\n",
      "age: [numeric - no encoding]\n",
      "\n",
      "Encoded data:\n",
      "   gender  age  smoking  yellow_fingers  anxiety  peer_pressure  \\\n",
      "0       1   69        0               1        1              0   \n",
      "1       1   74        1               0        0              0   \n",
      "2       0   59        0               0        0              1   \n",
      "3       1   63        1               1        1              0   \n",
      "4       0   63        0               1        0              0   \n",
      "\n",
      "   chronic_disease  fatigue  allergy  wheezing  alcohol_consuming  coughing  \\\n",
      "0                0        1        0         1                  1         1   \n",
      "1                1        1        1         0                  0         0   \n",
      "2                0        1        0         1                  0         1   \n",
      "3                0        0        0         0                  1         0   \n",
      "4                0        0        0         1                  0         1   \n",
      "\n",
      "   shortness_of_breath  swallowing_difficulty  chest_pain  target  \n",
      "0                    1                      1           1       1  \n",
      "1                    1                      1           1       1  \n",
      "2                    1                      0           1       0  \n",
      "3                    0                      1           1       0  \n",
      "4                    1                      0           0       0  \n"
     ]
    }
   ],
   "source": [
    "# Print the mappings so you can see them\n",
    "print(\"\\n📋 Encoding Mappings:\")\n",
    "for col, encoder in encoders.items():\n",
    "    mapping = dict(zip(encoder.classes_, encoder.transform(encoder.classes_)))\n",
    "    print(f\"{col}: {mapping}\")\n",
    "print(f\"age: [numeric - no encoding]\")\n",
    "\n",
    "print(\"\\nEncoded data:\")\n",
    "print(df.head())"
   ]
  },
  {
   "cell_type": "code",
   "execution_count": 24,
   "id": "1a7c9c88",
   "metadata": {},
   "outputs": [
    {
     "name": "stdout",
     "output_type": "stream",
     "text": [
      "\n",
      "============================================================\n",
      "DATASET SPLIT\n",
      "============================================================\n",
      "Feature shape: (309, 15)\n",
      "Target shape: (309,)\n",
      "Target distribution:\n",
      "target\n",
      "1    270\n",
      "0     39\n",
      "Name: count, dtype: int64\n"
     ]
    }
   ],
   "source": [
    "# Separate features from target\n",
    "X = df.drop('target', axis=1)\n",
    "y = df['target']\n",
    "print(\"\\n\" + \"=\"*60)\n",
    "print(\"DATASET SPLIT\")\n",
    "print(\"=\"*60)\n",
    "print(\"Feature shape:\", X.shape)\n",
    "print(\"Target shape:\", y.shape)\n",
    "print(\"Target distribution:\")\n",
    "print(y.value_counts())"
   ]
  },
  {
   "cell_type": "code",
   "execution_count": 25,
   "id": "79c9c0f0",
   "metadata": {},
   "outputs": [
    {
     "name": "stdout",
     "output_type": "stream",
     "text": [
      "\n",
      "Train size: (231, 15)\n",
      "Test size: (78, 15)\n"
     ]
    }
   ],
   "source": [
    "# Split dataset\n",
    "X_train, X_test, y_train, y_test = train_test_split(\n",
    "    X, y, test_size=0.25, random_state=42, stratify=y\n",
    ")\n",
    "print(\"\\nTrain size:\", X_train.shape)\n",
    "print(\"Test size:\", X_test.shape)"
   ]
  },
  {
   "cell_type": "markdown",
   "id": "16d40144",
   "metadata": {},
   "source": [
    "StandardScaler transforms your features to have zero mean and unit variance, putting all variables on the same scale for machine learning.\n",
    "- StandardScaler: Most common, assumes normal distribution\n",
    "- MinMaxScaler: When you need specific bounds (e.g., for neural networks)\n",
    "- RobustScaler: When your cancer data has outliers or isn't normally distributed"
   ]
  },
  {
   "cell_type": "code",
   "execution_count": 26,
   "id": "68ad8ce0",
   "metadata": {},
   "outputs": [],
   "source": [
    "# Standardize features\n",
    "scaler = StandardScaler()\n",
    "X_train_scaled = scaler.fit_transform(X_train)\n",
    "X_test_scaled = scaler.transform(X_test)"
   ]
  },
  {
   "cell_type": "code",
   "execution_count": 27,
   "id": "12a50569",
   "metadata": {},
   "outputs": [
    {
     "name": "stdout",
     "output_type": "stream",
     "text": [
      "\n",
      "======================================================================\n",
      "TRAINING AND COMPARING MULTIPLE MODELS\n",
      "======================================================================\n"
     ]
    }
   ],
   "source": [
    "print(\"\\n\" + \"=\"*70)\n",
    "print(\"TRAINING AND COMPARING MULTIPLE MODELS\")\n",
    "print(\"=\"*70)\n",
    "\n",
    "# Define models to compare\n",
    "models = {\n",
    "    'Logistic Regression': LogisticRegression(max_iter=1000),\n",
    "    'Random Forest': RandomForestClassifier(n_estimators=100, random_state=42),\n",
    "    'Gradient Boosting': GradientBoostingClassifier(n_estimators=100, random_state=42),\n",
    "    'SVM': SVC(kernel='rbf', probability=True, random_state=42),\n",
    "    'Neural Network': MLPClassifier(hidden_layer_sizes=(100, 50), max_iter=1000, random_state=42),\n",
    "    'Decision Tree': DecisionTreeClassifier(random_state=42),\n",
    "    'KNN': KNeighborsClassifier(n_neighbors=5)\n",
    "}"
   ]
  },
  {
   "cell_type": "code",
   "execution_count": 31,
   "id": "08fe0633",
   "metadata": {},
   "outputs": [
    {
     "name": "stdout",
     "output_type": "stream",
     "text": [
      "\n",
      "Model                     Accuracy     CV Score     ROC-AUC     \n",
      "----------------------------------------------------------------------\n",
      "Logistic Regression       0.9103       0.9349       0.9500      \n",
      "Random Forest             0.9231       0.9133       0.9610      \n",
      "Gradient Boosting         0.8718       0.8787       0.9412      \n",
      "SVM                       0.8846       0.9046       0.9426      \n",
      "Neural Network            0.8974       0.9090       0.8735      \n",
      "Decision Tree             0.8974       0.8875       0.8559      \n",
      "KNN                       0.8974       0.9090       0.9206      \n",
      "======================================================================\n",
      "\n",
      "🏆 BEST MODEL: Random Forest\n",
      "✅ Accuracy: 0.9231 (92.31%)\n"
     ]
    }
   ],
   "source": [
    "# Store results\n",
    "\n",
    "\n",
    "\n",
    "results = []\n",
    "best_accuracy = 0\n",
    "best_model_name = \"\"\n",
    "best_model = None\n",
    "\n",
    "print(\"\\n{:<25} {:<12} {:<12} {:<12}\".format(\"Model\", \"Accuracy\", \"CV Score\", \"ROC-AUC\"))\n",
    "print(\"-\" * 70)\n",
    "\n",
    "for name, model in models.items():\n",
    "    # Train model\n",
    "    model.fit(X_train_scaled, y_train)\n",
    "    \n",
    "    # Predictions\n",
    "    y_pred = model.predict(X_test_scaled)\n",
    "    y_pred_proba = model.predict_proba(X_test_scaled)[:, 1] if hasattr(model, 'predict_proba') else None\n",
    "    \n",
    "    # Metrics\n",
    "    accuracy = accuracy_score(y_test, y_pred)\n",
    "    cv_scores = cross_val_score(model, X_train_scaled, y_train, cv=5)\n",
    "    cv_mean = cv_scores.mean()\n",
    "    roc_auc = roc_auc_score(y_test, y_pred_proba) if y_pred_proba is not None else 0\n",
    "    \n",
    "    # Store results\n",
    "    results.append({\n",
    "        'Model': name,\n",
    "        'Accuracy': accuracy,\n",
    "        'CV_Score': cv_mean,\n",
    "        'ROC_AUC': roc_auc\n",
    "    })\n",
    "    \n",
    "    # Print results\n",
    "    print(\"{:<25} {:<12.4f} {:<12.4f} {:<12.4f}\".format(\n",
    "        name, accuracy, cv_mean, roc_auc\n",
    "    ))\n",
    "    \n",
    "    # Track best model\n",
    "    if accuracy > best_accuracy:\n",
    "        best_accuracy = accuracy\n",
    "        best_model_name = name\n",
    "        best_model = model\n",
    "\n",
    "print(\"=\" * 70)\n",
    "print(f\"\\n🏆 BEST MODEL: {best_model_name}\")\n",
    "print(f\"✅ Accuracy: {best_accuracy:.4f} ({best_accuracy*100:.2f}%)\")\n"
   ]
  },
  {
   "cell_type": "code",
   "execution_count": 32,
   "id": "943b443c",
   "metadata": {},
   "outputs": [
    {
     "name": "stdout",
     "output_type": "stream",
     "text": [
      "\n",
      "======================================================================\n",
      "DETAILED REPORT FOR Random Forest\n",
      "======================================================================\n",
      "\n",
      "📊 Classification Report:\n",
      "              precision    recall  f1-score   support\n",
      "\n",
      "           0       0.67      0.80      0.73        10\n",
      "           1       0.97      0.94      0.96        68\n",
      "\n",
      "    accuracy                           0.92        78\n",
      "   macro avg       0.82      0.87      0.84        78\n",
      "weighted avg       0.93      0.92      0.93        78\n",
      "\n"
     ]
    }
   ],
   "source": [
    "# Detailed report for best model\n",
    "print(\"\\n\" + \"=\"*70)\n",
    "print(f\"DETAILED REPORT FOR {best_model_name}\")\n",
    "print(\"=\"*70)\n",
    "\n",
    "y_pred_best = best_model.predict(X_test_scaled)\n",
    "print(\"\\n📊 Classification Report:\")\n",
    "print(classification_report(y_test, y_pred_best))\n"
   ]
  },
  {
   "cell_type": "code",
   "execution_count": 33,
   "id": "06914ad5",
   "metadata": {},
   "outputs": [
    {
     "data": {
      "text/plain": [
       "Text(95.72222222222221, 0.5, 'Actual')"
      ]
     },
     "execution_count": 33,
     "metadata": {},
     "output_type": "execute_result"
    },
    {
     "data": {
      "image/png": "[encoded data removed]",
      "text/plain": [
       "<Figure size 1000x500 with 1 Axes>"
      ]
     },
     "metadata": {},
     "output_type": "display_data"
    }
   ],
   "source": [
    "# Confusion Matrix\n",
    "cm = confusion_matrix(y_test, y_pred_best)\n",
    "plt.figure(figsize=(10, 5))\n",
    "\n",
    "plt.subplot(1, 2, 1)\n",
    "sns.heatmap(cm, annot=True, cmap='Blues', fmt='d', cbar=False)\n",
    "plt.title(f\"Confusion Matrix - {best_model_name}\")\n",
    "plt.xlabel(\"Predicted\")\n",
    "plt.ylabel(\"Actual\")"
   ]
  },
  {
   "cell_type": "code",
   "execution_count": 34,
   "id": "1546e780",
   "metadata": {},
   "outputs": [
    {
     "name": "stdout",
     "output_type": "stream",
     "text": [
      "\n",
      "📊 Charts saved as 'train_models/model_comparison.png'\n"
     ]
    },
    {
     "data": {
      "image/png": "[encoded data removed]",
      "text/plain": [
       "<Figure size 640x480 with 1 Axes>"
      ]
     },
     "metadata": {},
     "output_type": "display_data"
    }
   ],
   "source": [
    "# Model comparison chart\n",
    "plt.subplot(1, 2, 2)\n",
    "results_df = pd.DataFrame(results)\n",
    "results_df = results_df.sort_values('Accuracy', ascending=True)\n",
    "plt.barh(results_df['Model'], results_df['Accuracy'], color='skyblue')\n",
    "plt.xlabel('Accuracy')\n",
    "plt.title('Model Comparison')\n",
    "plt.xlim(0.8, 1.0)\n",
    "for i, v in enumerate(results_df['Accuracy']):\n",
    "    plt.text(v + 0.01, i, f'{v:.3f}', va='center')\n",
    "\n",
    "plt.tight_layout()\n",
    "plt.savefig(\"train_models/model_comparison.png\")\n",
    "print(\"\\n📊 Charts saved as 'train_models/model_comparison.png'\")\n",
    "plt.show()"
   ]
  },
  {
   "cell_type": "markdown",
   "id": "3be0caeb",
   "metadata": {},
   "source": [
    "**Why Two Models Are Needed:**\n",
    "So scaler is the data preparation helper that makes data ready for the main model!\n",
    "1. **`lung_cancer_model.pkl`** - Main prediction model\n",
    "   - Makes actual cancer predictions\n",
    "   - Contains learned patterns from training data\n",
    "\n",
    "2. **`scaler.pkl`** - Data preprocessor  \n",
    "   - Converts new data to same scale as training data\n",
    "   - Ensures model gets consistent input format\n",
    "\n",
    "**They work together:**\n",
    "```python\n",
    "New Data → Scaler → Scaled Data → Model → Prediction\n",
    "```\n",
    "\n",
    "**Without scaler:** Model performance drops because it expects scaled inputs but gets raw data."
   ]
  },
  {
   "cell_type": "code",
   "execution_count": 35,
   "id": "c85e18ff",
   "metadata": {},
   "outputs": [
    {
     "name": "stdout",
     "output_type": "stream",
     "text": [
      "\n",
      "======================================================================\n",
      "SAVING BEST MODEL\n",
      "======================================================================\n",
      "✅ Best Model (Random Forest) saved: train_models/lung_cancer_model.pkl\n",
      "✅ Scaler saved: train_models/scaler.pkl\n",
      "✅ Encoders saved: train_models/encoders.pkl\n",
      "✅ Categorical columns saved: train_models/categorical_columns.pkl\n",
      "\n",
      "🎉 Training completed successfully!\n"
     ]
    }
   ],
   "source": [
    "# Save the best model\n",
    "print(\"\\n\" + \"=\"*70)\n",
    "print(\"SAVING BEST MODEL\")\n",
    "print(\"=\"*70)\n",
    "\n",
    "joblib.dump(best_model, \"train_models/lung_cancer_model.pkl\")\n",
    "joblib.dump(scaler, \"train_models/scaler.pkl\")\n",
    "joblib.dump(encoders, \"train_models/encoders.pkl\")\n",
    "joblib.dump(categorical_columns, \"train_models/categorical_columns.pkl\")\n",
    "joblib.dump(best_model_name, \"train_models/best_model_name.pkl\")\n",
    "\n",
    "print(f\"✅ Best Model ({best_model_name}) saved: train_models/lung_cancer_model.pkl\")\n",
    "print(\"✅ Scaler saved: train_models/scaler.pkl\")\n",
    "print(\"✅ Encoders saved: train_models/encoders.pkl\")\n",
    "print(\"✅ Categorical columns saved: train_models/categorical_columns.pkl\")\n",
    "print(\"\\n🎉 Training completed successfully!\")\n"
   ]
  },
  {
   "cell_type": "code",
   "execution_count": 36,
   "id": "fd51571a",
   "metadata": {},
   "outputs": [
    {
     "name": "stdout",
     "output_type": "stream",
     "text": [
      "✅ Results summary saved: train_models/model_comparison_results.csv\n"
     ]
    }
   ],
   "source": [
    "results_df.to_csv(\"train_models/model_comparison_results.csv\", index=False)\n",
    "print(\"✅ Results summary saved: train_models/model_comparison_results.csv\")"
   ]
  }
 ],
 "metadata": {
  "kernelspec": {
   "display_name": "lungenv",
   "language": "python",
   "name": "python3"
  },
  "language_info": {
   "codemirror_mode": {
    "name": "ipython",
    "version": 3
   },
   "file_extension": ".py",
   "mimetype": "text/x-python",
   "name": "python",
   "nbconvert_exporter": "python",
   "pygments_lexer": "ipython3",
   "version": "3.11.0"
  }
 },
 "nbformat": 4,
 "nbformat_minor": 5
}
