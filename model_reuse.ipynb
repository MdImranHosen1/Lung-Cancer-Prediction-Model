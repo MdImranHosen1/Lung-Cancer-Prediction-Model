{
 "cells": [
  {
   "cell_type": "code",
   "execution_count": 47,
   "id": "2422d33f",
   "metadata": {},
   "outputs": [],
   "source": [
    "import pandas as pd\n",
    "import joblib"
   ]
  },
  {
   "cell_type": "code",
   "execution_count": 48,
   "id": "1b55d837",
   "metadata": {},
   "outputs": [
    {
     "name": "stdout",
     "output_type": "stream",
     "text": [
      "============================================================\n",
      "LOADING MODEL AND ENCODERS\n",
      "============================================================\n",
      "✅ Model loaded successfully!\n",
      "✅ Scaler loaded successfully!\n",
      "✅ Encoders loaded successfully!\n"
     ]
    }
   ],
   "source": [
    "print(\"=\"*60)\n",
    "print(\"LOADING MODEL AND ENCODERS\")\n",
    "print(\"=\"*60)\n",
    "\n",
    "# Load the trained model, scaler, and encoders\n",
    "model = joblib.load(\"train_models/lung_cancer_model.pkl\")\n",
    "scaler = joblib.load(\"train_models/scaler.pkl\")\n",
    "encoders = joblib.load(\"train_models/encoders.pkl\")\n",
    "\n",
    "print(\"✅ Model loaded successfully!\")\n",
    "print(\"✅ Scaler loaded successfully!\")\n",
    "print(\"✅ Encoders loaded successfully!\")"
   ]
  },
  {
   "cell_type": "code",
   "execution_count": null,
   "id": "4f3546c4",
   "metadata": {},
   "outputs": [
    {
     "name": "stdout",
     "output_type": "stream",
     "text": [
      "\n",
      "============================================================\n",
      "ENCODING REFERENCE\n",
      "============================================================\n",
      "gender: {'F': np.int64(0), 'M': np.int64(1)}\n",
      "smoking: {np.int64(1): np.int64(0), np.int64(2): np.int64(1)}\n",
      "yellow_fingers: {np.int64(1): np.int64(0), np.int64(2): np.int64(1)}\n",
      "anxiety: {np.int64(1): np.int64(0), np.int64(2): np.int64(1)}\n",
      "peer_pressure: {np.int64(1): np.int64(0), np.int64(2): np.int64(1)}\n",
      "chronic_disease: {np.int64(1): np.int64(0), np.int64(2): np.int64(1)}\n",
      "fatigue: {np.int64(1): np.int64(0), np.int64(2): np.int64(1)}\n",
      "allergy: {np.int64(1): np.int64(0), np.int64(2): np.int64(1)}\n",
      "wheezing: {np.int64(1): np.int64(0), np.int64(2): np.int64(1)}\n",
      "alcohol_consuming: {np.int64(1): np.int64(0), np.int64(2): np.int64(1)}\n",
      "coughing: {np.int64(1): np.int64(0), np.int64(2): np.int64(1)}\n",
      "shortness_of_breath: {np.int64(1): np.int64(0), np.int64(2): np.int64(1)}\n",
      "swallowing_difficulty: {np.int64(1): np.int64(0), np.int64(2): np.int64(1)}\n",
      "chest_pain: {np.int64(1): np.int64(0), np.int64(2): np.int64(1)}\n",
      "\n",
      "============================================================\n",
      "MAKING PREDICTIONS\n",
      "============================================================\n"
     ]
    }
   ],
   "source": [
    "# Print encoding mappings for reference\n",
    "print(\"\\n\" + \"=\"*60)\n",
    "print(\"ENCODING REFERENCE\")\n",
    "print(\"=\"*60)\n",
    "for col, encoder in encoders.items():\n",
    "    if col != 'target':  # Skip target\n",
    "        mapping = dict(zip(encoder.classes_, encoder.transform(encoder.classes_)))\n",
    "        print(f\"{col}: {mapping}\")\n",
    "\n"
   ]
  },
  {
   "cell_type": "code",
   "execution_count": 56,
   "id": "291996e1",
   "metadata": {},
   "outputs": [
    {
     "name": "stdout",
     "output_type": "stream",
     "text": [
      "\n",
      "============================================================\n",
      "MAKING PREDICTIONS\n",
      "============================================================\n"
     ]
    }
   ],
   "source": [
    "print(\"\\n\" + \"=\"*60)\n",
    "print(\"MAKING PREDICTIONS\")\n",
    "print(\"=\"*60)\n",
    "# Helper function to make predictions\n",
    "def predict_cancer(patient_data):\n",
    "    \"\"\"\n",
    "    Make a prediction for a patient\n",
    "    \n",
    "    Args:\n",
    "        patient_data: dict with raw values (e.g., 'M', 'F', 1, 2, actual age)\n",
    "    \n",
    "    Returns:\n",
    "        prediction and confidence\n",
    "    \"\"\"\n",
    "    # Create DataFrame\n",
    "    patient_df = pd.DataFrame([patient_data])\n",
    "    \n",
    "    # Encode only categorical columns using saved encoders\n",
    "    for col in patient_df.columns:\n",
    "        if col in encoders:  # Only encode if it's a categorical column\n",
    "            patient_df[col] = encoders[col].transform(patient_df[col])\n",
    "        # else: keep numeric values (like age) as-is\n",
    "    \n",
    "    # Scale\n",
    "    patient_scaled = scaler.transform(patient_df)\n",
    "    \n",
    "    # Predict\n",
    "    prediction = model.predict(patient_scaled)\n",
    "    prediction_proba = model.predict_proba(patient_scaled)\n",
    "    \n",
    "    result = \"Lung Cancer\" if prediction[0] == 1 else \"No Lung Cancer\"\n",
    "    confidence = round(prediction_proba[0][prediction[0]] * 100, 2)\n",
    "    \n",
    "    return result, confidence\n"
   ]
  },
  {
   "cell_type": "code",
   "execution_count": 51,
   "id": "3fccf04e",
   "metadata": {},
   "outputs": [
    {
     "name": "stdout",
     "output_type": "stream",
     "text": [
      "\n",
      "🩺 TEST 1: High-Risk Patient\n",
      "------------------------------------------------------------\n",
      "Patient Data: {'gender': 'M', 'age': 69, 'smoking': 1, 'yellow_fingers': 2, 'anxiety': 2, 'peer_pressure': 1, 'chronic_disease': 1, 'fatigue': 2, 'allergy': 1, 'wheezing': 2, 'alcohol_consuming': 2, 'coughing': 2, 'shortness_of_breath': 2, 'swallowing_difficulty': 2, 'chest_pain': 2}\n",
      "🔮 Prediction: Lung Cancer\n",
      "🧩 Confidence: 99.39%\n"
     ]
    }
   ],
   "source": [
    "print(\"\\n🩺 TEST 1: High-Risk Patient\")\n",
    "print(\"-\" * 60)\n",
    "high_risk = {\n",
    "    'gender': 'M',\n",
    "    'age': 69,\n",
    "    'smoking': 1,\n",
    "    'yellow_fingers': 2,\n",
    "    'anxiety': 2,\n",
    "    'peer_pressure': 1,\n",
    "    'chronic_disease': 1,\n",
    "    'fatigue': 2,\n",
    "    'allergy': 1,\n",
    "    'wheezing': 2,\n",
    "    'alcohol_consuming': 2,\n",
    "    'coughing': 2,\n",
    "    'shortness_of_breath': 2,\n",
    "    'swallowing_difficulty': 2,\n",
    "    'chest_pain': 2\n",
    "}\n",
    "\n",
    "result, confidence = predict_cancer(high_risk)\n",
    "print(\"Patient Data:\", high_risk)\n",
    "print(f\"🔮 Prediction: {result}\")\n",
    "print(f\"🧩 Confidence: {confidence}%\")"
   ]
  },
  {
   "cell_type": "code",
   "execution_count": 52,
   "id": "cfa53153",
   "metadata": {},
   "outputs": [
    {
     "name": "stdout",
     "output_type": "stream",
     "text": [
      "\n",
      "🩺 TEST 2: Low-Risk Patient\n",
      "------------------------------------------------------------\n",
      "Patient Data: {'gender': 'F', 'age': 59, 'smoking': 1, 'yellow_fingers': 1, 'anxiety': 1, 'peer_pressure': 2, 'chronic_disease': 1, 'fatigue': 2, 'allergy': 1, 'wheezing': 2, 'alcohol_consuming': 1, 'coughing': 2, 'shortness_of_breath': 2, 'swallowing_difficulty': 1, 'chest_pain': 2}\n",
      "🔮 Prediction: Lung Cancer\n",
      "🧩 Confidence: 83.21%\n"
     ]
    }
   ],
   "source": [
    "# Example 2: Low-risk patient (from dataset: F,59,1,1,1,2,1,2,1,2,1,2,2,1,2,NO)\n",
    "print(\"\\n🩺 TEST 2: Low-Risk Patient\")\n",
    "print(\"-\" * 60)\n",
    "low_risk = {\n",
    "    'gender': 'F',\n",
    "    'age': 59,\n",
    "    'smoking': 1,\n",
    "    'yellow_fingers': 1,\n",
    "    'anxiety': 1,\n",
    "    'peer_pressure': 2,\n",
    "    'chronic_disease': 1,\n",
    "    'fatigue': 2,\n",
    "    'allergy': 1,\n",
    "    'wheezing': 2,\n",
    "    'alcohol_consuming': 1,\n",
    "    'coughing': 2,\n",
    "    'shortness_of_breath': 2,\n",
    "    'swallowing_difficulty': 1,\n",
    "    'chest_pain': 2\n",
    "}\n",
    "\n",
    "result, confidence = predict_cancer(low_risk)\n",
    "print(\"Patient Data:\", low_risk)\n",
    "print(f\"🔮 Prediction: {result}\")\n",
    "print(f\"🧩 Confidence: {confidence}%\")"
   ]
  },
  {
   "cell_type": "code",
   "execution_count": 53,
   "id": "f277a238",
   "metadata": {},
   "outputs": [
    {
     "name": "stdout",
     "output_type": "stream",
     "text": [
      "\n",
      "🩺 TEST 3: Another Low-Risk Patient\n",
      "------------------------------------------------------------\n",
      "Patient Data: {'gender': 'F', 'age': 63, 'smoking': 1, 'yellow_fingers': 2, 'anxiety': 1, 'peer_pressure': 1, 'chronic_disease': 1, 'fatigue': 1, 'allergy': 1, 'wheezing': 2, 'alcohol_consuming': 1, 'coughing': 2, 'shortness_of_breath': 2, 'swallowing_difficulty': 1, 'chest_pain': 1}\n",
      "🔮 Prediction: No Lung Cancer\n",
      "🧩 Confidence: 86.33%\n"
     ]
    }
   ],
   "source": [
    "# Example 3: Another NO case (F,63,1,2,1,1,1,1,1,2,1,2,2,1,1,NO)\n",
    "print(\"\\n🩺 TEST 3: Another Low-Risk Patient\")\n",
    "print(\"-\" * 60)\n",
    "another_no = {\n",
    "    'gender': 'F',\n",
    "    'age': 63,\n",
    "    'smoking': 1,\n",
    "    'yellow_fingers': 2,\n",
    "    'anxiety': 1,\n",
    "    'peer_pressure': 1,\n",
    "    'chronic_disease': 1,\n",
    "    'fatigue': 1,\n",
    "    'allergy': 1,\n",
    "    'wheezing': 2,\n",
    "    'alcohol_consuming': 1,\n",
    "    'coughing': 2,\n",
    "    'shortness_of_breath': 2,\n",
    "    'swallowing_difficulty': 1,\n",
    "    'chest_pain': 1\n",
    "}\n",
    "\n",
    "result, confidence = predict_cancer(another_no)\n",
    "print(\"Patient Data:\", another_no)\n",
    "print(f\"🔮 Prediction: {result}\")\n",
    "print(f\"🧩 Confidence: {confidence}%\")"
   ]
  },
  {
   "cell_type": "code",
   "execution_count": 54,
   "id": "53f49136",
   "metadata": {},
   "outputs": [
    {
     "name": "stdout",
     "output_type": "stream",
     "text": [
      "\n",
      "🩺 TEST 4: Very Healthy Young Person\n",
      "------------------------------------------------------------\n",
      "Patient Data: {'gender': 'F', 'age': 30, 'smoking': 1, 'yellow_fingers': 1, 'anxiety': 1, 'peer_pressure': 1, 'chronic_disease': 1, 'fatigue': 1, 'allergy': 1, 'wheezing': 1, 'alcohol_consuming': 1, 'coughing': 1, 'shortness_of_breath': 1, 'swallowing_difficulty': 1, 'chest_pain': 1}\n",
      "🔮 Prediction: No Lung Cancer\n",
      "🧩 Confidence: 99.68%\n",
      "\n",
      "============================================================\n",
      "PREDICTION COMPLETED\n",
      "============================================================\n",
      "\n",
      "💡 To predict for your own patient:\n",
      "   Use the predict_cancer() function with raw values\n",
      "   Example: predict_cancer({'gender': 'M', 'age': 55, ...})\n"
     ]
    }
   ],
   "source": [
    "# Example 4: Custom patient - Very healthy young person\n",
    "print(\"\\n🩺 TEST 4: Very Healthy Young Person\")\n",
    "print(\"-\" * 60)\n",
    "healthy = {\n",
    "    'gender': 'F',\n",
    "    'age': 30,\n",
    "    'smoking': 1,\n",
    "    'yellow_fingers': 1,\n",
    "    'anxiety': 1,\n",
    "    'peer_pressure': 1,\n",
    "    'chronic_disease': 1,\n",
    "    'fatigue': 1,\n",
    "    'allergy': 1,\n",
    "    'wheezing': 1,\n",
    "    'alcohol_consuming': 1,\n",
    "    'coughing': 1,\n",
    "    'shortness_of_breath': 1,\n",
    "    'swallowing_difficulty': 1,\n",
    "    'chest_pain': 1\n",
    "}\n",
    "\n",
    "result, confidence = predict_cancer(healthy)\n",
    "# result, confidence = predict_cancer(another_no)\n",
    "print(\"Patient Data:\", healthy)\n",
    "print(f\"🔮 Prediction: {result}\")\n",
    "print(f\"🧩 Confidence: {confidence}%\")\n",
    "\n",
    "\n",
    "print(\"\\n\" + \"=\"*60)\n",
    "print(\"PREDICTION COMPLETED\")\n",
    "print(\"=\"*60)\n",
    "print(\"\\n💡 To predict for your own patient:\")\n",
    "print(\"   Use the predict_cancer() function with raw values\")\n",
    "print(\"   Example: predict_cancer({'gender': 'M', 'age': 55, ...})\")"
   ]
  }
 ],
 "metadata": {
  "kernelspec": {
   "display_name": "lungenv",
   "language": "python",
   "name": "python3"
  },
  "language_info": {
   "codemirror_mode": {
    "name": "ipython",
    "version": 3
   },
   "file_extension": ".py",
   "mimetype": "text/x-python",
   "name": "python",
   "nbconvert_exporter": "python",
   "pygments_lexer": "ipython3",
   "version": "3.11.0"
  }
 },
 "nbformat": 4,
 "nbformat_minor": 5
}
